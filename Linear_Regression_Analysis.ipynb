{
  "nbformat": 4,
  "nbformat_minor": 0,
  "metadata": {
    "colab": {
      "name": "Linear_Regression_Analysis.ipynb",
      "provenance": [],
      "collapsed_sections": [],
      "authorship_tag": "ABX9TyOCThChvSQQbP47CC2XZj8M",
      "include_colab_link": true
    },
    "kernelspec": {
      "name": "python3",
      "display_name": "Python 3"
    },
    "language_info": {
      "name": "python"
    }
  },
  "cells": [
    {
      "cell_type": "markdown",
      "metadata": {
        "id": "view-in-github",
        "colab_type": "text"
      },
      "source": [
        "<a href=\"https://colab.research.google.com/github/tominh/numerik/blob/master/Linear_Regression_Analysis.ipynb\" target=\"_parent\"><img src=\"https://colab.research.google.com/assets/colab-badge.svg\" alt=\"Open In Colab\"/></a>"
      ]
    },
    {
      "cell_type": "markdown",
      "metadata": {
        "id": "zHJZ8WbH-RYi"
      },
      "source": [
        "# **Rumus Regresi**\n",
        "Oleh : Tomi Nurhidayat"
      ]
    },
    {
      "cell_type": "markdown",
      "metadata": {
        "id": "sMPUcKLBy8ow"
      },
      "source": [
        "# Cara Menginput Data\n",
        "\n",
        "1. Temukan code variabel \"**dataX**\" dan \"**dataY**\".\n",
        "\n",
        "2. Pehatikan di variabel **dataX** terdapat **np.array([1,2,3,4,5,6,7,8,9,10])**, begitupun di variabel **dataY** terdapat **np.array([5,5.6,7,7.4,9,10,10.5,12,12.7,14])**.\n",
        "  * Angka 1, 2, 3, 4, 5, 6, 7, 8, 9, 10 merupakan representasi data X. \n",
        "\n",
        "  * Angka 5, 5.6, 7, 7.4, 9, 10, 10.5, 12, 12.7, 14 merupakan representasi data Y.\n",
        "\n",
        "## **Contoh :**\n",
        "\n",
        "Jika hendak melakukan perhitungan regresi linear menggunakan data lain misal:\n",
        "\n",
        "X = 4, 5, 6, 7, 8, 9, 10\n",
        "\n",
        "Y = 5, 6, 7, 8, 8.7, 9.8, 11\n",
        "\n",
        "Maka tinggal ubah saja nilainya tapi harus berurutan. Sehingga tampilannya menjadi seperti berikut\n",
        "\n",
        "dataX = np.array([4, 5, 6, 7, 8, 9, 10])\n",
        "\n",
        "dataY = np.array([5, 6, 7, 8, 8.7, 9.8, 11])\n",
        "\n",
        "Jika sudah menginputkan data X dan Y tinggal jalankan program ini.\n",
        "\n",
        "# Cara Menjalankan Program\n",
        "\n",
        "## Cara 1\n",
        "\n",
        "1. Temukan menu \"**Runtime**\" di menu bar atas, lalu klik.\n",
        "2. Kemudian klik \"**Run All**\".\n",
        "3. Tunggu sebentar proses program berjalan.\n",
        "\n",
        "## Cara 2\n",
        "1. Tekan **CTRL + F9**.\n",
        "2. Tunggu sebentar proses program berjalan.\n",
        "\n",
        "# Hasil Perhitungan\n",
        "Hasil perhitungan regresi bisa dilihat di bagian paling bawah, lengkap dengan grafik linearnya."
      ]
    },
    {
      "cell_type": "code",
      "metadata": {
        "id": "rkFJVnZc905K"
      },
      "source": [
        "# Program Rumus Regresi\n",
        "# By : Tomi Nurhidayat\n",
        "\n",
        "import numpy as np\n",
        "import matplotlib.pyplot as plt\n",
        "from scipy import stats\n",
        "import pandas as pd\n",
        "\n",
        "def regressionFunction(X, Y):\n",
        "  # Variabel kosong bertipe array untuk menyimpan data x dan y\n",
        "  x = X\n",
        "  y = Y\n",
        "\n",
        "  garis = '='*50\n",
        "  print(garis, '\\nUntuk Menghitung Regresi Diperlukan Data > 2')\n",
        "  print(garis)\n",
        "\n",
        "  banyakData = len(x)\n",
        "\n",
        "  # gradien, titik potong sb y, faktor korelasi, dsb jangan tertukar urutan\n",
        "  slope, intercept, r, p, std_err = stats.linregress(x, y)\n",
        "\n",
        "  # fungsi untuk regresinya\n",
        "  def fungsi(x):\n",
        "      return slope*x + intercept\n",
        "\n",
        "  # pemodelan\n",
        "  pemodelan = list(map(fungsi, x))\n",
        "\n",
        "  # Untuk mencacri Sy\n",
        "  def Sy(a, b, c, d, e, f):\n",
        "      syKuadrat = (a - ((b*c)-2*d+(banyakData*e)) /\n",
        "                    ((banyakData*b)-f))/(banyakData-2)\n",
        "      sy = np.sqrt(syKuadrat)\n",
        "      return sy\n",
        "\n",
        "  # Untuk mencari gradien\n",
        "\n",
        "  def gradien(a, b, c, d, e):\n",
        "      m = ((banyakData*a)-(b*c))/((banyakData*d)-e)\n",
        "      return m\n",
        "\n",
        "  # Untuk mencari ralat gradien\n",
        "\n",
        "  def ralatGradien(a, b, c):\n",
        "      ralatGradien = a*np.sqrt(banyakData/((banyakData*b)-c))\n",
        "      return ralatGradien\n",
        "\n",
        "  # Untuk mencari titik potong\n",
        "\n",
        "  def titikPotong(a, b, c, d, e):\n",
        "      titikPotong = ((a*b)-(c*d))/((banyakData*a)-e)\n",
        "      return titikPotong\n",
        "\n",
        "  # Untuk mencari ralat titik potong\n",
        "\n",
        "  def ralatTitikpotong(a, b, c):\n",
        "      ralatTitikpotong = a*np.sqrt(b/((banyakData*b)-c))\n",
        "      return ralatTitikpotong\n",
        "\n",
        "  # Untuk mencari sigma X dan sigma Y\n",
        "  sigmaX = 0\n",
        "  sigmaY = 0\n",
        "  for i in range(banyakData):\n",
        "      sigmaX = sigmaX + x[i]\n",
        "      sigmaY = sigmaY + y[i]\n",
        "\n",
        "  # Untuk mencari (sigma X) kuadrat dan (sigma Y) kuadrat\n",
        "  sigmaXkuadrat = pow(sigmaX, 2)\n",
        "  sigmaYkuadrat = pow(sigmaY, 2)\n",
        "\n",
        "  # Untuk mencari sigma(X dikuadratkan) dan sigma(Y dikuadratkan)\n",
        "  sigmaXdikuadrat = 0\n",
        "  sigmaYdikuadrat = 0\n",
        "  for k in range(banyakData):\n",
        "      sigmaXdikuadrat = sigmaXdikuadrat + pow(x[k], 2)\n",
        "      sigmaYdikuadrat = sigmaYdikuadrat + pow(y[k], 2)\n",
        "\n",
        "  # Untuk mencari xy\n",
        "  sigmaxy = 0\n",
        "  for a in range(banyakData):\n",
        "      sigmaxy = sigmaxy + x[a]*y[a]\n",
        "\n",
        "  # Untuk (sigmaXY) dikuadratkan\n",
        "  sigmaXYkuadrat = pow(sigmaxy, 2)\n",
        "\n",
        "  # Untuk mencari sigmaX.sigmaY.sigmaXY\n",
        "  sigmaXsigmaYsigmaXY = sigmaX*sigmaY*sigmaxy\n",
        "\n",
        "  # Nilai Sy\n",
        "  sY = Sy(sigmaYdikuadrat, sigmaXdikuadrat, sigmaYkuadrat,\n",
        "          sigmaXsigmaYsigmaXY, sigmaXYkuadrat, sigmaXkuadrat)\n",
        "  # Nilai gradien\n",
        "  gradien = gradien(sigmaxy, sigmaX, sigmaY, sigmaXdikuadrat, sigmaXkuadrat)\n",
        "  # Nilai ralat gradien\n",
        "  ralatGradien = ralatGradien(sY, sigmaXdikuadrat, sigmaXkuadrat)\n",
        "  # Nilai titik potong\n",
        "  titikPotong = titikPotong(sigmaXdikuadrat, sigmaY,\n",
        "                            sigmaX, sigmaxy, sigmaXkuadrat)\n",
        "  # Nilai ralat titik potong\n",
        "  ralatTitikpotong = ralatTitikpotong(sY, sigmaXdikuadrat, sigmaXkuadrat)\n",
        "\n",
        "  # Titik potong sb X\n",
        "  titikPotongX = -(titikPotong)/gradien\n",
        "\n",
        "  print('sigmaX :', sigmaX)\n",
        "  print('(sigmaX)^2 :', sigmaXkuadrat)\n",
        "  print('sigma(X^2) :', sigmaXdikuadrat)\n",
        "  print('sigmaY :', sigmaY)\n",
        "  print('(sigmaY)^2 :', sigmaYkuadrat)\n",
        "  print('sigma(Y^2) :', sigmaYdikuadrat)\n",
        "  print('sigmaXY :', sigmaxy)\n",
        "  print('sigmaXsigmaYsigmaXY :', sigmaXsigmaYsigmaXY)\n",
        "  print('(sigmaXY)^2 :', sigmaXYkuadrat, '\\n')\n",
        "\n",
        "  # Untuk menampilkan Sy, gradien, titik potong\n",
        "  print('Sy :', sY)\n",
        "  print('gradien :', gradien)\n",
        "  print('ralat gradien :', ralatGradien)\n",
        "  print('titik potong sumbu Y :', titikPotong)\n",
        "  print('ralat titik potong sumbu Y :', ralatTitikpotong)\n",
        "  print('titik potong sumbu X :', titikPotongX)\n",
        "  print('faktor korelasi :', r)\n",
        "  print('Y =', gradien, 'X + (', titikPotong, ')')\n",
        "\n",
        "  # Untuk membuat grafik\n",
        "  plt.scatter(x, y)\n",
        "  plt.plot(x, pemodelan)\n",
        "  plt.grid(True)\n",
        "  plt.title('Y = BX + A')\n",
        "  plt.xlabel('X')\n",
        "  plt.ylabel('Y')\n",
        "  plt.show()"
      ],
      "execution_count": 5,
      "outputs": []
    },
    {
      "cell_type": "code",
      "metadata": {
        "id": "sk93HJN6-CRa"
      },
      "source": [
        "# inputkan data x di sini\n",
        "dataX = np.array([1, 2, 3, 4, 5, 6, 7, 8, 9, 10])\n",
        "\n",
        "# inputkan data y di sini\n",
        "dataY = np.array([5, 5.6, 7, 7.4, 9, 10, 10.5, 12, 12.7, 14])"
      ],
      "execution_count": 6,
      "outputs": []
    },
    {
      "cell_type": "code",
      "metadata": {
        "colab": {
          "base_uri": "https://localhost:8080/",
          "height": 363
        },
        "id": "SUjQTkuh0EkT",
        "outputId": "e8b3b858-b46e-4a05-d2ff-330cd907862c"
      },
      "source": [
        "# di sini untuk menampilkan data yang sudah diinputkan\n",
        "pd.DataFrame({'x':dataX, 'y':dataY})"
      ],
      "execution_count": 7,
      "outputs": [
        {
          "output_type": "execute_result",
          "data": {
            "text/html": [
              "<div>\n",
              "<style scoped>\n",
              "    .dataframe tbody tr th:only-of-type {\n",
              "        vertical-align: middle;\n",
              "    }\n",
              "\n",
              "    .dataframe tbody tr th {\n",
              "        vertical-align: top;\n",
              "    }\n",
              "\n",
              "    .dataframe thead th {\n",
              "        text-align: right;\n",
              "    }\n",
              "</style>\n",
              "<table border=\"1\" class=\"dataframe\">\n",
              "  <thead>\n",
              "    <tr style=\"text-align: right;\">\n",
              "      <th></th>\n",
              "      <th>x</th>\n",
              "      <th>y</th>\n",
              "    </tr>\n",
              "  </thead>\n",
              "  <tbody>\n",
              "    <tr>\n",
              "      <th>0</th>\n",
              "      <td>1</td>\n",
              "      <td>5.0</td>\n",
              "    </tr>\n",
              "    <tr>\n",
              "      <th>1</th>\n",
              "      <td>2</td>\n",
              "      <td>5.6</td>\n",
              "    </tr>\n",
              "    <tr>\n",
              "      <th>2</th>\n",
              "      <td>3</td>\n",
              "      <td>7.0</td>\n",
              "    </tr>\n",
              "    <tr>\n",
              "      <th>3</th>\n",
              "      <td>4</td>\n",
              "      <td>7.4</td>\n",
              "    </tr>\n",
              "    <tr>\n",
              "      <th>4</th>\n",
              "      <td>5</td>\n",
              "      <td>9.0</td>\n",
              "    </tr>\n",
              "    <tr>\n",
              "      <th>5</th>\n",
              "      <td>6</td>\n",
              "      <td>10.0</td>\n",
              "    </tr>\n",
              "    <tr>\n",
              "      <th>6</th>\n",
              "      <td>7</td>\n",
              "      <td>10.5</td>\n",
              "    </tr>\n",
              "    <tr>\n",
              "      <th>7</th>\n",
              "      <td>8</td>\n",
              "      <td>12.0</td>\n",
              "    </tr>\n",
              "    <tr>\n",
              "      <th>8</th>\n",
              "      <td>9</td>\n",
              "      <td>12.7</td>\n",
              "    </tr>\n",
              "    <tr>\n",
              "      <th>9</th>\n",
              "      <td>10</td>\n",
              "      <td>13.2</td>\n",
              "    </tr>\n",
              "  </tbody>\n",
              "</table>\n",
              "</div>"
            ],
            "text/plain": [
              "    x     y\n",
              "0   1   5.0\n",
              "1   2   5.6\n",
              "2   3   7.0\n",
              "3   4   7.4\n",
              "4   5   9.0\n",
              "5   6  10.0\n",
              "6   7  10.5\n",
              "7   8  12.0\n",
              "8   9  12.7\n",
              "9  10  13.2"
            ]
          },
          "metadata": {},
          "execution_count": 7
        }
      ]
    },
    {
      "cell_type": "code",
      "metadata": {
        "colab": {
          "base_uri": "https://localhost:8080/",
          "height": 660
        },
        "id": "iuS_PGvbzY72",
        "outputId": "102afaf3-c4c4-4a39-8190-304896cb1e35"
      },
      "source": [
        "# menampilkan hasil regresi\n",
        "regressionFunction(dataX, dataY)"
      ],
      "execution_count": 8,
      "outputs": [
        {
          "output_type": "stream",
          "name": "stdout",
          "text": [
            "================================================== \n",
            "Untuk Menghitung Regresi Diperlukan Data > 2\n",
            "==================================================\n",
            "sigmaX : 55\n",
            "(sigmaX)^2 : 3025\n",
            "sigma(X^2) : 385\n",
            "sigmaY : 92.4\n",
            "(sigmaY)^2 : 8537.76\n",
            "sigma(Y^2) : 930.9\n",
            "sigmaXY : 587.6\n",
            "sigmaXsigmaYsigmaXY : 2986183.2\n",
            "(sigmaXY)^2 : 345273.76 \n",
            "\n",
            "Sy : 0.2973876156456828\n",
            "gradien : 0.9624242424242424\n",
            "ralat gradien : 0.03274129890232219\n",
            "titik potong sumbu Y : 3.9466666666666668\n",
            "ralat titik potong sumbu Y : 0.20315441706182852\n",
            "titik potong sumbu X : -4.100755667506298\n",
            "faktor korelasi : 0.995402564205345\n",
            "Y = 0.9624242424242424 X + ( 3.9466666666666668 )\n"
          ]
        },
        {
          "output_type": "display_data",
          "data": {
            "image/png": "[encoded data removed]",
            "text/plain": [
              "<Figure size 432x288 with 1 Axes>"
            ]
          },
          "metadata": {
            "needs_background": "light"
          }
        }
      ]
    },
    {
      "cell_type": "markdown",
      "metadata": {
        "id": "ET6Bju6z4N31"
      },
      "source": [
        "## Keterangan\n",
        "\n",
        "sigmaX : $𝚺x_i$\n",
        "\n",
        "(sigmaX)^2 : $(𝚺x_i)^2$\n",
        "\n",
        "sigma(X^2) : $𝚺x_i^2$\n",
        "\n",
        "sigmaY : $𝚺y_i$\n",
        "\n",
        "(sigmaY)^2 : $(𝚺y_i)^2$\n",
        "\n",
        "sigma(Y^2) : $𝚺y_i^2$\n",
        "\n",
        "sigmaXY : $𝚺x_iy_i$\n",
        "\n",
        "sigmaXsigmaYsigmaXY : $𝚺x_i𝚺y_i𝚺x_iy_i$\n",
        "\n",
        "(sigmaXY)^2 : $(𝚺x_iy_i)^2$"
      ]
    }
  ]
}